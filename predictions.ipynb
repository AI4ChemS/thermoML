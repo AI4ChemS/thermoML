{
 "cells": [
  {
   "cell_type": "code",
   "execution_count": 1,
   "id": "9f5adbb5",
   "metadata": {},
   "outputs": [
    {
     "name": "stderr",
     "output_type": "stream",
     "text": [
      "2025-05-29 18:32:12.005835: I tensorflow/core/util/port.cc:110] oneDNN custom operations are on. You may see slightly different numerical results due to floating-point round-off errors from different computation orders. To turn them off, set the environment variable `TF_ENABLE_ONEDNN_OPTS=0`.\n",
      "2025-05-29 18:32:12.030278: I tensorflow/core/platform/cpu_feature_guard.cc:182] This TensorFlow binary is optimized to use available CPU instructions in performance-critical operations.\n",
      "To enable the following instructions: AVX2 AVX_VNNI FMA, in other operations, rebuild TensorFlow with the appropriate compiler flags.\n",
      "2025-05-29 18:32:12.385178: W tensorflow/compiler/tf2tensorrt/utils/py_utils.cc:38] TF-TRT Warning: Could not find TensorRT\n",
      "/home/sartaaj/miniconda3/envs/thermo/lib/python3.9/site-packages/tqdm/auto.py:21: TqdmWarning: IProgress not found. Please update jupyter and ipywidgets. See https://ipywidgets.readthedocs.io/en/stable/user_install.html\n",
      "  from .autonotebook import tqdm as notebook_tqdm\n"
     ]
    }
   ],
   "source": [
    "from thermoML import main_training\n",
    "from thermoML import main_test\n",
    "import pandas as pd\n",
    "import numpy as np\n",
    "from thermoML import main_base_test_MT\n",
    "from thermoML import main_base_test_ST\n",
    "import matplotlib.pyplot as plt\n",
    "from scipy.stats import spearmanr\n",
    "from sklearn.metrics import r2_score"
   ]
  },
  {
   "cell_type": "markdown",
   "id": "903db485",
   "metadata": {},
   "source": [
    "#### <b>Thermodynamics-Informed Model Predictions</b>"
   ]
  },
  {
   "cell_type": "code",
   "execution_count": null,
   "id": "769175f2",
   "metadata": {},
   "outputs": [],
   "source": [
    "# approx run-time: a few seconds\n",
    "path = 'Results/thermoML'\n",
    "df_test = pd.read_excel('thermoML/src/data/Dataset.xlsx', sheet_name='data')\n",
    "df_test = df_test[['Compounds', 'smiles']][df_test['label'] == 'test'].reset_index(drop = True)\n",
    "temp_test = pd.read_excel('thermoML/src/data/Dataset.xlsx', sheet_name='temp_test')\n",
    "temp_test = temp_test.iloc[:,1:]\n",
    "\n",
    "output = main_test(df_test, temp_test, path, helper_output = True, n_models = 20, to_drop = ['Compounds', 'smiles'])"
   ]
  },
  {
   "cell_type": "markdown",
   "id": "b21e6d12",
   "metadata": {},
   "source": [
    "#### <b>Multitemperature Base Model Predictions</b>"
   ]
  },
  {
   "cell_type": "code",
   "execution_count": null,
   "id": "aae5588b",
   "metadata": {},
   "outputs": [],
   "source": [
    "# approx run-time: a few seconds\n",
    "df_test = pd.read_excel('thermoML/src/data/Dataset.xlsx', sheet_name='data')\n",
    "df_test = df_test[['Compounds', 'smiles']][df_test['label'] == 'test'].reset_index(drop = True)\n",
    "temp_test = pd.read_excel('thermoML/src/data/Dataset.xlsx', sheet_name='temp_test')\n",
    "temp_test = temp_test.iloc[:,1:]\n",
    "\n",
    "model_path = 'Results/base_model'\n",
    "y_pred_base_avg_temp_all, y_pred_base_std_temp_all, y_pred_base_certainty_temp_all = main_base_test_MT(df_test, temp_test, model_path)"
   ]
  },
  {
   "cell_type": "markdown",
   "id": "1cb6317c",
   "metadata": {},
   "source": [
    "#### <b>Isothermal Base Model Predictions</b>"
   ]
  },
  {
   "cell_type": "code",
   "execution_count": null,
   "id": "ae8692cf",
   "metadata": {},
   "outputs": [],
   "source": [
    "# approx run-time: a few seconds\n",
    "df_test = pd.read_excel('thermoML/src/data/Dataset.xlsx', sheet_name='data')\n",
    "df_test = df_test[['Compounds', 'smiles']][df_test['label'] == 'test'].reset_index(drop = True)\n",
    "temp_test = pd.read_excel('thermoML/src/data/Dataset.xlsx', sheet_name='temp_test')\n",
    "temp_test = temp_test.iloc[:,1:]\n",
    "\n",
    "model_path = 'Results/base_model_singleT'\n",
    "y_pred_base_avg_temp_all_singleT, y_pred_base_std_temp_all_singleT, y_pred_base_certainty_temp_all_singleT = main_base_test_ST(df_test, temp_test, model_path)"
   ]
  },
  {
   "cell_type": "code",
   "execution_count": null,
   "id": "2a5699a5",
   "metadata": {},
   "outputs": [],
   "source": []
  }
 ],
 "metadata": {
  "kernelspec": {
   "display_name": "thermo",
   "language": "python",
   "name": "python3"
  },
  "language_info": {
   "codemirror_mode": {
    "name": "ipython",
    "version": 3
   },
   "file_extension": ".py",
   "mimetype": "text/x-python",
   "name": "python",
   "nbconvert_exporter": "python",
   "pygments_lexer": "ipython3",
   "version": "3.9.21"
  }
 },
 "nbformat": 4,
 "nbformat_minor": 5
}
