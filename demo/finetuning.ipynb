{
 "cells": [
  {
   "cell_type": "code",
   "execution_count": 1,
   "id": "95eae404",
   "metadata": {},
   "outputs": [
    {
     "name": "stderr",
     "output_type": "stream",
     "text": [
      "2025-05-29 20:29:21.791412: I tensorflow/core/util/port.cc:110] oneDNN custom operations are on. You may see slightly different numerical results due to floating-point round-off errors from different computation orders. To turn them off, set the environment variable `TF_ENABLE_ONEDNN_OPTS=0`.\n",
      "2025-05-29 20:29:21.816135: I tensorflow/core/platform/cpu_feature_guard.cc:182] This TensorFlow binary is optimized to use available CPU instructions in performance-critical operations.\n",
      "To enable the following instructions: AVX2 AVX_VNNI FMA, in other operations, rebuild TensorFlow with the appropriate compiler flags.\n",
      "2025-05-29 20:29:22.204557: W tensorflow/compiler/tf2tensorrt/utils/py_utils.cc:38] TF-TRT Warning: Could not find TensorRT\n"
     ]
    },
    {
     "name": "stdout",
     "output_type": "stream",
     "text": [
      "Python version: 3.9.21 (main, Dec 11 2024, 16:24:11) \n",
      "[GCC 11.2.0]\n"
     ]
    },
    {
     "name": "stderr",
     "output_type": "stream",
     "text": [
      "/home/sartaaj/miniconda3/envs/thermo/lib/python3.9/site-packages/tqdm/auto.py:21: TqdmWarning: IProgress not found. Please update jupyter and ipywidgets. See https://ipywidgets.readthedocs.io/en/stable/user_install.html\n",
      "  from .autonotebook import tqdm as notebook_tqdm\n"
     ]
    }
   ],
   "source": [
    "from thermoML import main_training\n",
    "import pandas as pd\n",
    "import numpy as np\n",
    "from thermoML import main_base_train_MT\n",
    "from thermoML import main_base_train_ST\n",
    "import os\n",
    "import tensorflow as tf\n",
    "import sys\n",
    "\n",
    "print(f\"Python version: {sys.version}\")"
   ]
  },
  {
   "cell_type": "markdown",
   "id": "6d50bd46",
   "metadata": {},
   "source": [
    "#### <b>Thermodynamics-Informed Model Training</b>"
   ]
  },
  {
   "cell_type": "code",
   "execution_count": null,
   "id": "41135f3d",
   "metadata": {},
   "outputs": [],
   "source": [
    "# approx run-time: 4 minutes\n",
    "df = pd.read_excel('data/Dataset.xlsx', sheet_name='data')\n",
    "df = df[['Compounds', 'smiles']][df['label'] == 'train'].reset_index(drop = True)\n",
    "arr_data = pd.read_excel('data/Dataset.xlsx', sheet_name='train_arr_data')\n",
    "mu_temp = pd.read_excel('data/Dataset.xlsx', sheet_name= 'train_mu_temp')\n",
    "path = 'Results/thermoML'\n",
    "\n",
    "df, df_mu_log, df_mu =  main_training(df, arr_data, mu_temp, path, to_drop = ['Compounds', 'smiles'], is_data_stratification = False, lim_nan_values = 0.3, corr_filter = True, corr_threshold = 0.9, var_filter = True, var_threshold = 0.02, feature_selection = 'xgboost', n_models = 20, set_size = 342, helper_output = True)"
   ]
  },
  {
   "cell_type": "markdown",
   "id": "b658ee00",
   "metadata": {},
   "source": [
    "#### <b>Multitemperature Base Model</b>"
   ]
  },
  {
   "cell_type": "code",
   "execution_count": null,
   "id": "4bf98b9b",
   "metadata": {},
   "outputs": [],
   "source": [
    "# approx run-time: 3 minutes\n",
    "set_size = 2390\n",
    "model_path = 'Results/base_model'\n",
    "df = pd.read_excel('data/base_model/df.xlsx')\n",
    "df_mu = pd.read_excel('data/base_model/df_mu.xlsx')\n",
    "main_base_train_MT(df, df_mu, set_size, model_path, n_models = 10, hp_tuning = False)"
   ]
  },
  {
   "cell_type": "markdown",
   "id": "5ed85570",
   "metadata": {},
   "source": [
    "#### <b>Isothermal Base Model</b>"
   ]
  },
  {
   "cell_type": "code",
   "execution_count": null,
   "id": "463b4bfb",
   "metadata": {},
   "outputs": [],
   "source": [
    "# approx run-time: 2 minutes\n",
    "set_size = 478\n",
    "model_path = 'Results/base_model_singleT'\n",
    "df = pd.read_excel('data/base_model/df.xlsx')\n",
    "df_mu = pd.read_excel('data/base_model/df_mu.xlsx')\n",
    "main_base_train_ST(df, df_mu, set_size, model_path, n_models = 20, hp_tuning = False)"
   ]
  },
  {
   "cell_type": "code",
   "execution_count": null,
   "id": "a48509bf",
   "metadata": {},
   "outputs": [],
   "source": []
  },
  {
   "cell_type": "code",
   "execution_count": null,
   "id": "d0e7846b",
   "metadata": {},
   "outputs": [],
   "source": []
  },
  {
   "cell_type": "code",
   "execution_count": null,
   "id": "e747e6c8",
   "metadata": {},
   "outputs": [],
   "source": []
  },
  {
   "cell_type": "code",
   "execution_count": null,
   "id": "32b78f51",
   "metadata": {},
   "outputs": [],
   "source": []
  }
 ],
 "metadata": {
  "kernelspec": {
   "display_name": "thermo",
   "language": "python",
   "name": "python3"
  },
  "language_info": {
   "codemirror_mode": {
    "name": "ipython",
    "version": 3
   },
   "file_extension": ".py",
   "mimetype": "text/x-python",
   "name": "python",
   "nbconvert_exporter": "python",
   "pygments_lexer": "ipython3",
   "version": "3.9.21"
  }
 },
 "nbformat": 4,
 "nbformat_minor": 5
}
